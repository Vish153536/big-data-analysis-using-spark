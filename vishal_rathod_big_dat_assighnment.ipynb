{
 "cells": [
  {
   "cell_type": "code",
   "execution_count": 56,
   "metadata": {
    "colab": {
     "base_uri": "https://localhost:8080/"
    },
    "id": "MJt2PQBG1NSB",
    "outputId": "7fb29983-e85f-4b12-e97c-aa0111f16166"
   },
   "outputs": [
    {
     "name": "stdout",
     "output_type": "stream",
     "text": [
      "Requirement already satisfied: pyspark in c:\\users\\91932\\anaconda3\\lib\\site-packages (3.2.1)\n",
      "Requirement already satisfied: py4j==0.10.9.3 in c:\\users\\91932\\anaconda3\\lib\\site-packages (from pyspark) (0.10.9.3)\n"
     ]
    }
   ],
   "source": [
    "!pip install pyspark"
   ]
  },
  {
   "cell_type": "code",
   "execution_count": 57,
   "metadata": {
    "id": "6CXn1Bb31QDB"
   },
   "outputs": [],
   "source": [
    "import pyspark"
   ]
  },
  {
   "cell_type": "code",
   "execution_count": 58,
   "metadata": {
    "id": "ZTfhsrfl1b_u"
   },
   "outputs": [],
   "source": [
    "from pyspark.sql import SparkSession "
   ]
  },
  {
   "cell_type": "code",
   "execution_count": 59,
   "metadata": {
    "id": "SSubeHGf1y0m"
   },
   "outputs": [],
   "source": [
    "spark = (SparkSession\n",
    " .builder\n",
    " .appName(\"data_analyse\")\n",
    " .getOrCreate())"
   ]
  },
  {
   "cell_type": "code",
   "execution_count": 60,
   "metadata": {
    "colab": {
     "base_uri": "https://localhost:8080/",
     "height": 219
    },
    "id": "JBJV17972HQk",
    "outputId": "6102bcf7-2639-49a5-f543-963b0fbc8c22"
   },
   "outputs": [
    {
     "data": {
      "text/html": [
       "\n",
       "            <div>\n",
       "                <p><b>SparkSession - in-memory</b></p>\n",
       "                \n",
       "        <div>\n",
       "            <p><b>SparkContext</b></p>\n",
       "\n",
       "            <p><a href=\"http://LAPTOP-E2MJHIK0:4040\">Spark UI</a></p>\n",
       "\n",
       "            <dl>\n",
       "              <dt>Version</dt>\n",
       "                <dd><code>v3.2.1</code></dd>\n",
       "              <dt>Master</dt>\n",
       "                <dd><code>local[*]</code></dd>\n",
       "              <dt>AppName</dt>\n",
       "                <dd><code>data_analyse</code></dd>\n",
       "            </dl>\n",
       "        </div>\n",
       "        \n",
       "            </div>\n",
       "        "
      ],
      "text/plain": [
       "<pyspark.sql.session.SparkSession at 0x234bc59eee0>"
      ]
     },
     "execution_count": 60,
     "metadata": {},
     "output_type": "execute_result"
    }
   ],
   "source": [
    "spark\n"
   ]
  },
  {
   "cell_type": "code",
   "execution_count": 61,
   "metadata": {
    "id": "dl1r0RCV2Lyp"
   },
   "outputs": [],
   "source": [
    "ipl_matches=spark.read.option('header','true').csv(\"C:/Users/91932/Downloads/ipl_dataset_2/ipl_matches.csv\")"
   ]
  },
  {
   "cell_type": "code",
   "execution_count": 62,
   "metadata": {
    "colab": {
     "base_uri": "https://localhost:8080/"
    },
    "id": "AzOaZwwZ4o4r",
    "outputId": "19177264-1a6f-4dcb-9cc6-ed98315c7eb7"
   },
   "outputs": [
    {
     "name": "stdout",
     "output_type": "stream",
     "text": [
      "+--------+----------+---------------+--------+-------------+--------------------+--------------------+--------------------+-------------+--------------------+-------+-------------+----------+------+-----------+--------------+\n",
      "|match_id|      date|player_of_match|venue_id|neutral_venue|               team1|               team2|         toss_winner|toss_decision|              winner| result|result_margin|eliminator|method|    umpire1|       umpire2|\n",
      "+--------+----------+---------------+--------+-------------+--------------------+--------------------+--------------------+-------------+--------------------+-------+-------------+----------+------+-----------+--------------+\n",
      "|  335982|2008-04-18|    BB McCullum|      35|            0|Royal Challengers...|Kolkata Knight Ri...|Royal Challengers...|        field|Kolkata Knight Ri...|   runs|          140|         N|    NA|  Asad Rauf|   RE Koertzen|\n",
      "|  335983|2008-04-19|     MEK Hussey|      31|            0|     Kings XI Punjab| Chennai Super Kings| Chennai Super Kings|          bat| Chennai Super Kings|   runs|           33|         N|    NA|  MR Benson|    SL Shastri|\n",
      "|  335984|2008-04-19|    MF Maharoof|      27|            0|    Delhi Daredevils|    Rajasthan Royals|    Rajasthan Royals|          bat|    Delhi Daredevils|wickets|            9|         N|    NA|  Aleem Dar|GA Pratapkumar|\n",
      "|  335985|2008-04-20|     MV Boucher|      14|            0|      Mumbai Indians|Royal Challengers...|      Mumbai Indians|          bat|Royal Challengers...|wickets|            5|         N|    NA|   SJ Davis|     DJ Harper|\n",
      "|  335986|2008-04-20|      DJ Hussey|      15|            0|Kolkata Knight Ri...|     Deccan Chargers|     Deccan Chargers|          bat|Kolkata Knight Ri...|wickets|            5|         N|    NA|  BF Bowden|   K Hariharan|\n",
      "|  335987|2008-04-21|      SR Watson|      20|            0|    Rajasthan Royals|     Kings XI Punjab|     Kings XI Punjab|          bat|    Rajasthan Royals|wickets|            6|         N|    NA|  Aleem Dar|     RB Tiffin|\n",
      "|  335988|2008-04-22|       V Sehwag|      22|            0|     Deccan Chargers|    Delhi Daredevils|     Deccan Chargers|          bat|    Delhi Daredevils|wickets|            9|         N|    NA|  IL Howell|     AM Saheba|\n",
      "|  335989|2008-04-23|      ML Hayden|      29|            0| Chennai Super Kings|      Mumbai Indians|      Mumbai Indians|        field| Chennai Super Kings|   runs|            6|         N|    NA|  DJ Harper|GA Pratapkumar|\n",
      "|  335990|2008-04-24|      YK Pathan|      22|            0|     Deccan Chargers|    Rajasthan Royals|    Rajasthan Royals|        field|    Rajasthan Royals|wickets|            3|         N|    NA|  Asad Rauf|     MR Benson|\n",
      "|  335991|2008-04-25|  KC Sangakkara|      31|            0|     Kings XI Punjab|      Mumbai Indians|      Mumbai Indians|        field|     Kings XI Punjab|   runs|           66|         N|    NA|  Aleem Dar|     AM Saheba|\n",
      "|  335992|2008-04-26|      SR Watson|      35|            0|Royal Challengers...|    Rajasthan Royals|    Rajasthan Royals|        field|    Rajasthan Royals|wickets|            7|         N|    NA|  MR Benson|     IL Howell|\n",
      "|  335993|2008-04-26|       JDP Oram|      29|            0| Chennai Super Kings|Kolkata Knight Ri...|Kolkata Knight Ri...|          bat| Chennai Super Kings|wickets|            9|         N|    NA|  BF Bowden|AV Jayaprakash|\n",
      "|  335994|2008-04-27|   AC Gilchrist|      13|            0|      Mumbai Indians|     Deccan Chargers|     Deccan Chargers|        field|     Deccan Chargers|wickets|           10|         N|    NA|  Asad Rauf|    SL Shastri|\n",
      "|  335995|2008-04-27|      SM Katich|      31|            0|     Kings XI Punjab|    Delhi Daredevils|    Delhi Daredevils|          bat|     Kings XI Punjab|wickets|            4|         N|    NA|RE Koertzen|     I Shivram|\n",
      "|  335996|2008-04-28|       MS Dhoni|      35|            0|Royal Challengers...| Chennai Super Kings| Chennai Super Kings|          bat| Chennai Super Kings|   runs|           13|         N|    NA|BR Doctrove|     RB Tiffin|\n",
      "|  335997|2008-04-29|  ST Jayasuriya|      15|            0|Kolkata Knight Ri...|      Mumbai Indians|Kolkata Knight Ri...|          bat|      Mumbai Indians|wickets|            7|         N|    NA|  BF Bowden|AV Jayaprakash|\n",
      "|  335998|2008-04-30|     GD McGrath|      27|            0|    Delhi Daredevils|Royal Challengers...|Royal Challengers...|        field|    Delhi Daredevils|   runs|           10|         N|    NA|  Aleem Dar|     I Shivram|\n",
      "|  335999|2008-05-01|       SE Marsh|      22|            0|     Deccan Chargers|     Kings XI Punjab|     Kings XI Punjab|        field|     Kings XI Punjab|wickets|            7|         N|    NA|BR Doctrove|     RB Tiffin|\n",
      "|  336000|2008-05-01|    SA Asnodkar|      20|            0|    Rajasthan Royals|Kolkata Knight Ri...|    Rajasthan Royals|          bat|    Rajasthan Royals|   runs|           45|         N|    NA|RE Koertzen|GA Pratapkumar|\n",
      "|  336001|2008-05-02|       V Sehwag|      29|            0| Chennai Super Kings|    Delhi Daredevils| Chennai Super Kings|          bat|    Delhi Daredevils|wickets|            8|         N|    NA|  BF Bowden|   K Hariharan|\n",
      "+--------+----------+---------------+--------+-------------+--------------------+--------------------+--------------------+-------------+--------------------+-------+-------------+----------+------+-----------+--------------+\n",
      "only showing top 20 rows\n",
      "\n"
     ]
    }
   ],
   "source": [
    "ipl_matches.show()"
   ]
  },
  {
   "cell_type": "code",
   "execution_count": 98,
   "metadata": {
    "colab": {
     "base_uri": "https://localhost:8080/"
    },
    "id": "UPMwOCDY6IQR",
    "outputId": "b9f0412f-fa90-4942-84dd-c6f58656c9dc"
   },
   "outputs": [
    {
     "name": "stdout",
     "output_type": "stream",
     "text": [
      "root\n",
      " |-- match_id: string (nullable = true)\n",
      " |-- date: string (nullable = true)\n",
      " |-- player_of_match: string (nullable = true)\n",
      " |-- venue_id: string (nullable = true)\n",
      " |-- neutral_venue: string (nullable = true)\n",
      " |-- team1: string (nullable = true)\n",
      " |-- team2: string (nullable = true)\n",
      " |-- toss_winner: string (nullable = true)\n",
      " |-- toss_decision: string (nullable = true)\n",
      " |-- winner: string (nullable = true)\n",
      " |-- result: string (nullable = true)\n",
      " |-- result_margin: string (nullable = true)\n",
      " |-- eliminator: string (nullable = true)\n",
      " |-- method: string (nullable = true)\n",
      " |-- umpire1: string (nullable = true)\n",
      " |-- umpire2: string (nullable = true)\n",
      "\n",
      "root\n",
      " |-- match_id: string (nullable = true)\n",
      " |-- inning: string (nullable = true)\n",
      " |-- overs: string (nullable = true)\n",
      " |-- ball: string (nullable = true)\n",
      " |-- batsman: string (nullable = true)\n",
      " |-- non_striker: string (nullable = true)\n",
      " |-- bowler: string (nullable = true)\n",
      " |-- batsman_runs: integer (nullable = true)\n",
      " |-- extra_runs: integer (nullable = true)\n",
      " |-- total_runs: integer (nullable = true)\n",
      " |-- non_boundary: string (nullable = true)\n",
      " |-- is_wicket: integer (nullable = true)\n",
      " |-- dismissal_kind: string (nullable = true)\n",
      " |-- player_dismissed: string (nullable = true)\n",
      " |-- fielder: string (nullable = true)\n",
      " |-- extras_type: string (nullable = true)\n",
      " |-- batting_team: string (nullable = true)\n",
      " |-- bowling_team: string (nullable = true)\n",
      "\n"
     ]
    }
   ],
   "source": [
    "ipl_matches.printSchema()\n",
    "from pyspark.sql.types import IntegerType\n",
    "ipl_ball_by_ball = ipl_ball_by_ball.withColumn(\"is_wicket\", ipl_ball_by_ball[\"is_wicket\"].cast(IntegerType()))\n",
    "ipl_ball_by_ball= ipl_ball_by_ball.withColumn(\"batsman_runs\", ipl_ball_by_ball[\"batsman_runs\"].cast(IntegerType()))\n",
    "ipl_ball_by_ball = ipl_ball_by_ball.withColumn(\"extra_runs\", ipl_ball_by_ball[\"extra_runs\"].cast(IntegerType()))\n",
    "ipl_ball_by_ball= ipl_ball_by_ball.withColumn(\"total_runs\", ipl_ball_by_ball[\"total_runs\"].cast(IntegerType()))\n",
    "\n",
    "ipl_ball_by_ball.printSchema()"
   ]
  },
  {
   "cell_type": "code",
   "execution_count": 64,
   "metadata": {
    "colab": {
     "base_uri": "https://localhost:8080/"
    },
    "id": "rGVxOTQf5PRt",
    "outputId": "1d0e4c04-cff2-4097-aa44-686a1b8e8e90"
   },
   "outputs": [
    {
     "name": "stdout",
     "output_type": "stream",
     "text": [
      "+--------+--------------------+--------------+\n",
      "|venue_id|               venue|          city|\n",
      "+--------+--------------------+--------------+\n",
      "|       1|Dr. Y.S. Rajasekh...| Visakhapatnam|\n",
      "|       2|Sharjah Cricket S...|       Sharjah|\n",
      "|       3|JSCA Internationa...|        Ranchi|\n",
      "|       4|Saurashtra Cricke...|        Rajkot|\n",
      "|       5|Shaheed Veer Nara...|        Raipur|\n",
      "|       6|Maharashtra Crick...|          Pune|\n",
      "|       7|Subrata Roy Sahar...|          Pune|\n",
      "|       8|    St George's Park|Port Elizabeth|\n",
      "|       9|Vidarbha Cricket ...|        Nagpur|\n",
      "|      12|   Brabourne Stadium|        Mumbai|\n",
      "|      13|Dr DY Patil Sport...|        Mumbai|\n",
      "|      14|    Wankhede Stadium|        Mumbai|\n",
      "|      15|        Eden Gardens|       Kolkata|\n",
      "|      16|       Nehru Stadium|         Kochi|\n",
      "|      17|De Beers Diamond ...|     Kimberley|\n",
      "|      18|          Green Park|        Kanpur|\n",
      "|      19|New Wanderers Sta...|  Johannesburg|\n",
      "|      20|Sawai Mansingh St...|        Jaipur|\n",
      "|      21|Holkar Cricket St...|        Indore|\n",
      "|      22|Rajiv Gandhi Inte...|     Hyderabad|\n",
      "+--------+--------------------+--------------+\n",
      "only showing top 20 rows\n",
      "\n"
     ]
    }
   ],
   "source": [
    "ipl_venue=spark.read.option('header','true').csv(\"C:/Users/91932/Downloads/ipl_dataset_2/ipl_venue.csv\")\n",
    "ipl_venue.show()"
   ]
  },
  {
   "cell_type": "code",
   "execution_count": 65,
   "metadata": {
    "colab": {
     "base_uri": "https://localhost:8080/"
    },
    "id": "8lGmPThB6TEk",
    "outputId": "904c0329-4b93-4d7b-80ed-001e2ddc3e9a"
   },
   "outputs": [
    {
     "name": "stdout",
     "output_type": "stream",
     "text": [
      "root\n",
      " |-- venue_id: string (nullable = true)\n",
      " |-- venue: string (nullable = true)\n",
      " |-- city: string (nullable = true)\n",
      "\n"
     ]
    }
   ],
   "source": [
    "ipl_venue.printSchema()\n"
   ]
  },
  {
   "cell_type": "code",
   "execution_count": 66,
   "metadata": {
    "colab": {
     "base_uri": "https://localhost:8080/"
    },
    "id": "c8atSgHF5Paa",
    "outputId": "b51388ac-92b9-49bd-86e8-4052467115a6"
   },
   "outputs": [
    {
     "name": "stdout",
     "output_type": "stream",
     "text": [
      "+--------+------+-----+----+-------------+-------------+------------+------------+----------+----------+------------+---------+--------------+----------------+-------+-----------+--------------------+--------------------+\n",
      "|match_id|inning|overs|ball|      batsman|  non_striker|      bowler|batsman_runs|extra_runs|total_runs|non_boundary|is_wicket|dismissal_kind|player_dismissed|fielder|extras_type|        batting_team|        bowling_team|\n",
      "+--------+------+-----+----+-------------+-------------+------------+------------+----------+----------+------------+---------+--------------+----------------+-------+-----------+--------------------+--------------------+\n",
      "|  419157|     2|   16|   4|      V Kohli|R Vinay Kumar|CRD Fernando|           0|         0|         0|           0|        0|            NA|              NA|     NA|         NA|Royal Challengers...|      Mumbai Indians|\n",
      "|  419157|     2|   16|   5|      V Kohli|R Vinay Kumar|CRD Fernando|           1|         0|         1|           0|        0|            NA|              NA|     NA|         NA|Royal Challengers...|      Mumbai Indians|\n",
      "|  419157|     2|   16|   6|R Vinay Kumar|      V Kohli|CRD Fernando|           1|         0|         1|           0|        0|            NA|              NA|     NA|         NA|Royal Challengers...|      Mumbai Indians|\n",
      "|  419157|     2|   17|   1|R Vinay Kumar|      V Kohli|   R McLaren|           1|         0|         1|           0|        0|            NA|              NA|     NA|         NA|Royal Challengers...|      Mumbai Indians|\n",
      "|  419157|     2|   17|   2|      V Kohli|R Vinay Kumar|   R McLaren|           1|         0|         1|           0|        0|            NA|              NA|     NA|         NA|Royal Challengers...|      Mumbai Indians|\n",
      "|  419157|     2|   17|   3|R Vinay Kumar|      V Kohli|   R McLaren|           0|         0|         0|           0|        0|            NA|              NA|     NA|         NA|Royal Challengers...|      Mumbai Indians|\n",
      "|  419157|     2|   17|   4|R Vinay Kumar|      V Kohli|   R McLaren|           0|         0|         0|           0|        0|            NA|              NA|     NA|         NA|Royal Challengers...|      Mumbai Indians|\n",
      "|  419157|     2|   17|   5|R Vinay Kumar|      V Kohli|   R McLaren|           1|         0|         1|           0|        0|            NA|              NA|     NA|         NA|Royal Challengers...|      Mumbai Indians|\n",
      "|  419157|     2|   17|   6|      V Kohli|R Vinay Kumar|   R McLaren|           1|         0|         1|           0|        0|            NA|              NA|     NA|         NA|Royal Challengers...|      Mumbai Indians|\n",
      "|  419157|     2|   18|   1|      V Kohli|R Vinay Kumar|  KA Pollard|           4|         0|         4|           0|        0|            NA|              NA|     NA|         NA|Royal Challengers...|      Mumbai Indians|\n",
      "|  419157|     2|   18|   2|      V Kohli|R Vinay Kumar|  KA Pollard|           0|         0|         0|           0|        1|        caught|         V Kohli|AP Tare|         NA|Royal Challengers...|      Mumbai Indians|\n",
      "|  419157|     2|   18|   3|R Vinay Kumar| Pankaj Singh|  KA Pollard|           0|         1|         1|           0|        0|            NA|              NA|     NA|      wides|Royal Challengers...|      Mumbai Indians|\n",
      "|  419157|     2|   18|   4|R Vinay Kumar| Pankaj Singh|  KA Pollard|           1|         0|         1|           0|        0|            NA|              NA|     NA|         NA|Royal Challengers...|      Mumbai Indians|\n",
      "|  419157|     2|   18|   5| Pankaj Singh|R Vinay Kumar|  KA Pollard|           1|         0|         1|           0|        0|            NA|              NA|     NA|         NA|Royal Challengers...|      Mumbai Indians|\n",
      "|  419157|     2|   18|   6|R Vinay Kumar| Pankaj Singh|  KA Pollard|           1|         0|         1|           0|        0|            NA|              NA|     NA|         NA|Royal Challengers...|      Mumbai Indians|\n",
      "|  419157|     2|   18|   7| Pankaj Singh|R Vinay Kumar|  KA Pollard|           0|         0|         0|           0|        1|        caught|    Pankaj Singh| Z Khan|         NA|Royal Challengers...|      Mumbai Indians|\n",
      "|  419157|     2|   19|   1|     A Kumble|R Vinay Kumar|   R McLaren|           0|         0|         0|           0|        0|            NA|              NA|     NA|         NA|Royal Challengers...|      Mumbai Indians|\n",
      "|  419157|     1|    0|   1|    R McLaren| SR Tendulkar|    DW Steyn|           1|         0|         1|           0|        0|            NA|              NA|     NA|         NA|      Mumbai Indians|Royal Challengers...|\n",
      "|  419157|     1|    0|   2| SR Tendulkar|    R McLaren|    DW Steyn|           0|         0|         0|           0|        0|            NA|              NA|     NA|         NA|      Mumbai Indians|Royal Challengers...|\n",
      "|  419157|     1|    0|   3| SR Tendulkar|    R McLaren|    DW Steyn|           1|         0|         1|           0|        0|            NA|              NA|     NA|         NA|      Mumbai Indians|Royal Challengers...|\n",
      "+--------+------+-----+----+-------------+-------------+------------+------------+----------+----------+------------+---------+--------------+----------------+-------+-----------+--------------------+--------------------+\n",
      "only showing top 20 rows\n",
      "\n"
     ]
    }
   ],
   "source": [
    "ipl_ball_by_ball=spark.read.option('header','true').csv(\"C:/Users/91932/Downloads/ipl_ball_by_balls.csv\")\n",
    "ipl_ball_by_ball.show()"
   ]
  },
  {
   "cell_type": "code",
   "execution_count": 67,
   "metadata": {
    "colab": {
     "base_uri": "https://localhost:8080/"
    },
    "id": "PA-_QcBl5PkC",
    "outputId": "90b0763e-3e19-4b7c-cce9-b9d3d1666ac5"
   },
   "outputs": [
    {
     "name": "stdout",
     "output_type": "stream",
     "text": [
      "root\n",
      " |-- match_id: string (nullable = true)\n",
      " |-- inning: string (nullable = true)\n",
      " |-- overs: string (nullable = true)\n",
      " |-- ball: string (nullable = true)\n",
      " |-- batsman: string (nullable = true)\n",
      " |-- non_striker: string (nullable = true)\n",
      " |-- bowler: string (nullable = true)\n",
      " |-- batsman_runs: string (nullable = true)\n",
      " |-- extra_runs: string (nullable = true)\n",
      " |-- total_runs: string (nullable = true)\n",
      " |-- non_boundary: string (nullable = true)\n",
      " |-- is_wicket: string (nullable = true)\n",
      " |-- dismissal_kind: string (nullable = true)\n",
      " |-- player_dismissed: string (nullable = true)\n",
      " |-- fielder: string (nullable = true)\n",
      " |-- extras_type: string (nullable = true)\n",
      " |-- batting_team: string (nullable = true)\n",
      " |-- bowling_team: string (nullable = true)\n",
      "\n"
     ]
    }
   ],
   "source": [
    "ipl_ball_by_ball.printSchema()"
   ]
  },
  {
   "cell_type": "code",
   "execution_count": 75,
   "metadata": {
    "colab": {
     "base_uri": "https://localhost:8080/"
    },
    "id": "xMOYGNrj9I1K",
    "outputId": "3a73f41b-6bb0-4244-8430-832c490d05a4"
   },
   "outputs": [
    {
     "name": "stdout",
     "output_type": "stream",
     "text": [
      "+---------+----------------+-----------+\n",
      "|namespace|       tableName|isTemporary|\n",
      "+---------+----------------+-----------+\n",
      "|         |ipl_ball_by_ball|       true|\n",
      "|         |     ipl_matches|       true|\n",
      "|         |       ipl_venue|       true|\n",
      "+---------+----------------+-----------+\n",
      "\n",
      "+--------+----------+---------------+--------+-------------+--------------------+--------------------+--------------------+-------------+--------------------+-------+-------------+----------+------+-----------+--------------+\n",
      "|match_id|      date|player_of_match|venue_id|neutral_venue|               team1|               team2|         toss_winner|toss_decision|              winner| result|result_margin|eliminator|method|    umpire1|       umpire2|\n",
      "+--------+----------+---------------+--------+-------------+--------------------+--------------------+--------------------+-------------+--------------------+-------+-------------+----------+------+-----------+--------------+\n",
      "|  335982|2008-04-18|    BB McCullum|      35|            0|Royal Challengers...|Kolkata Knight Ri...|Royal Challengers...|        field|Kolkata Knight Ri...|   runs|          140|         N|    NA|  Asad Rauf|   RE Koertzen|\n",
      "|  335983|2008-04-19|     MEK Hussey|      31|            0|     Kings XI Punjab| Chennai Super Kings| Chennai Super Kings|          bat| Chennai Super Kings|   runs|           33|         N|    NA|  MR Benson|    SL Shastri|\n",
      "|  335984|2008-04-19|    MF Maharoof|      27|            0|    Delhi Daredevils|    Rajasthan Royals|    Rajasthan Royals|          bat|    Delhi Daredevils|wickets|            9|         N|    NA|  Aleem Dar|GA Pratapkumar|\n",
      "|  335985|2008-04-20|     MV Boucher|      14|            0|      Mumbai Indians|Royal Challengers...|      Mumbai Indians|          bat|Royal Challengers...|wickets|            5|         N|    NA|   SJ Davis|     DJ Harper|\n",
      "|  335986|2008-04-20|      DJ Hussey|      15|            0|Kolkata Knight Ri...|     Deccan Chargers|     Deccan Chargers|          bat|Kolkata Knight Ri...|wickets|            5|         N|    NA|  BF Bowden|   K Hariharan|\n",
      "|  335987|2008-04-21|      SR Watson|      20|            0|    Rajasthan Royals|     Kings XI Punjab|     Kings XI Punjab|          bat|    Rajasthan Royals|wickets|            6|         N|    NA|  Aleem Dar|     RB Tiffin|\n",
      "|  335988|2008-04-22|       V Sehwag|      22|            0|     Deccan Chargers|    Delhi Daredevils|     Deccan Chargers|          bat|    Delhi Daredevils|wickets|            9|         N|    NA|  IL Howell|     AM Saheba|\n",
      "|  335989|2008-04-23|      ML Hayden|      29|            0| Chennai Super Kings|      Mumbai Indians|      Mumbai Indians|        field| Chennai Super Kings|   runs|            6|         N|    NA|  DJ Harper|GA Pratapkumar|\n",
      "|  335990|2008-04-24|      YK Pathan|      22|            0|     Deccan Chargers|    Rajasthan Royals|    Rajasthan Royals|        field|    Rajasthan Royals|wickets|            3|         N|    NA|  Asad Rauf|     MR Benson|\n",
      "|  335991|2008-04-25|  KC Sangakkara|      31|            0|     Kings XI Punjab|      Mumbai Indians|      Mumbai Indians|        field|     Kings XI Punjab|   runs|           66|         N|    NA|  Aleem Dar|     AM Saheba|\n",
      "|  335992|2008-04-26|      SR Watson|      35|            0|Royal Challengers...|    Rajasthan Royals|    Rajasthan Royals|        field|    Rajasthan Royals|wickets|            7|         N|    NA|  MR Benson|     IL Howell|\n",
      "|  335993|2008-04-26|       JDP Oram|      29|            0| Chennai Super Kings|Kolkata Knight Ri...|Kolkata Knight Ri...|          bat| Chennai Super Kings|wickets|            9|         N|    NA|  BF Bowden|AV Jayaprakash|\n",
      "|  335994|2008-04-27|   AC Gilchrist|      13|            0|      Mumbai Indians|     Deccan Chargers|     Deccan Chargers|        field|     Deccan Chargers|wickets|           10|         N|    NA|  Asad Rauf|    SL Shastri|\n",
      "|  335995|2008-04-27|      SM Katich|      31|            0|     Kings XI Punjab|    Delhi Daredevils|    Delhi Daredevils|          bat|     Kings XI Punjab|wickets|            4|         N|    NA|RE Koertzen|     I Shivram|\n",
      "|  335996|2008-04-28|       MS Dhoni|      35|            0|Royal Challengers...| Chennai Super Kings| Chennai Super Kings|          bat| Chennai Super Kings|   runs|           13|         N|    NA|BR Doctrove|     RB Tiffin|\n",
      "|  335997|2008-04-29|  ST Jayasuriya|      15|            0|Kolkata Knight Ri...|      Mumbai Indians|Kolkata Knight Ri...|          bat|      Mumbai Indians|wickets|            7|         N|    NA|  BF Bowden|AV Jayaprakash|\n",
      "|  335998|2008-04-30|     GD McGrath|      27|            0|    Delhi Daredevils|Royal Challengers...|Royal Challengers...|        field|    Delhi Daredevils|   runs|           10|         N|    NA|  Aleem Dar|     I Shivram|\n",
      "|  335999|2008-05-01|       SE Marsh|      22|            0|     Deccan Chargers|     Kings XI Punjab|     Kings XI Punjab|        field|     Kings XI Punjab|wickets|            7|         N|    NA|BR Doctrove|     RB Tiffin|\n",
      "|  336000|2008-05-01|    SA Asnodkar|      20|            0|    Rajasthan Royals|Kolkata Knight Ri...|    Rajasthan Royals|          bat|    Rajasthan Royals|   runs|           45|         N|    NA|RE Koertzen|GA Pratapkumar|\n",
      "|  336001|2008-05-02|       V Sehwag|      29|            0| Chennai Super Kings|    Delhi Daredevils| Chennai Super Kings|          bat|    Delhi Daredevils|wickets|            8|         N|    NA|  BF Bowden|   K Hariharan|\n",
      "+--------+----------+---------------+--------+-------------+--------------------+--------------------+--------------------+-------------+--------------------+-------+-------------+----------+------+-----------+--------------+\n",
      "only showing top 20 rows\n",
      "\n"
     ]
    }
   ],
   "source": [
    "spark.sql('create database iams_data')\n",
    "spark.sql('use iams_data')\n",
    "ipl_matches.createOrReplaceTempView(\"ipl_matches\")  # here we make virtual table \n",
    "ipl_venue.createOrReplaceTempView(\"ipl_venue\") \n",
    "ipl_ball_by_ball.createOrReplaceTempView(\"ipl_ball_by_ball\") \n",
    "\n",
    "spark.sql('show tables from default').show()\n",
    "spark.sql(\"select * from ipl_matches\").show()  # here we successfully make view table "
   ]
  },
  {
   "cell_type": "code",
   "execution_count": 76,
   "metadata": {
    "colab": {
     "base_uri": "https://localhost:8080/"
    },
    "id": "CfPWboc86Y9D",
    "outputId": "ac5694fe-7e59-48a5-e14c-23615d9dc13d"
   },
   "outputs": [
    {
     "data": {
      "text/plain": [
       "[Table(name='ipl_ball_by_ball', database=None, description=None, tableType='TEMPORARY', isTemporary=True),\n",
       " Table(name='ipl_matches', database=None, description=None, tableType='TEMPORARY', isTemporary=True),\n",
       " Table(name='ipl_venue', database=None, description=None, tableType='TEMPORARY', isTemporary=True)]"
      ]
     },
     "execution_count": 76,
     "metadata": {},
     "output_type": "execute_result"
    }
   ],
   "source": [
    "spark.catalog.listTables()"
   ]
  },
  {
   "cell_type": "code",
   "execution_count": 77,
   "metadata": {
    "colab": {
     "base_uri": "https://localhost:8080/"
    },
    "id": "3FKSM_DU5Pm9",
    "outputId": "7742f9f2-e257-416c-83e3-bced90d7d809"
   },
   "outputs": [
    {
     "data": {
      "text/plain": [
       "[Database(name='default', description='default database', locationUri='file:/C:/Users/91932/Downloads/spark-warehouse'),\n",
       " Database(name='iams_data', description='', locationUri='file:/C:/Users/91932/Downloads/spark-warehouse/iams_data.db'),\n",
       " Database(name='ipls_data', description='', locationUri='file:/C:/Users/91932/Downloads/spark-warehouse/ipls_data.db')]"
      ]
     },
     "execution_count": 77,
     "metadata": {},
     "output_type": "execute_result"
    }
   ],
   "source": [
    "spark.catalog.listDatabases()"
   ]
  },
  {
   "cell_type": "code",
   "execution_count": 78,
   "metadata": {
    "colab": {
     "base_uri": "https://localhost:8080/"
    },
    "id": "U2-kC4EzFQTB",
    "outputId": "eb578c82-d13f-40fb-8056-4c2ce97fa07d"
   },
   "outputs": [
    {
     "data": {
      "text/plain": [
       "match_id           0\n",
       "date               0\n",
       "player_of_match    0\n",
       "venue_id           0\n",
       "neutral_venue      0\n",
       "team1              0\n",
       "team2              0\n",
       "toss_winner        0\n",
       "toss_decision      0\n",
       "winner             0\n",
       "result             0\n",
       "result_margin      0\n",
       "eliminator         0\n",
       "method             0\n",
       "umpire1            0\n",
       "umpire2            0\n",
       "dtype: int64"
      ]
     },
     "execution_count": 78,
     "metadata": {},
     "output_type": "execute_result"
    }
   ],
   "source": [
    "ipl_matches.toPandas().isnull().sum()"
   ]
  },
  {
   "cell_type": "code",
   "execution_count": null,
   "metadata": {
    "id": "AuHXzEzgAga9"
   },
   "outputs": [],
   "source": [
    "# we can use pyspark functions like filter() , select() so we go with this for analyse the data "
   ]
  },
  {
   "cell_type": "code",
   "execution_count": 82,
   "metadata": {
    "colab": {
     "base_uri": "https://localhost:8080/"
    },
    "id": "diNni7QS48Ck",
    "outputId": "91797701-1ccf-4ce7-b25e-aceeebaf9cba"
   },
   "outputs": [
    {
     "name": "stdout",
     "output_type": "stream",
     "text": [
      "+-------+------------------+----------------+-------------+\n",
      "|summary|          venue_id|           venue|         city|\n",
      "+-------+------------------+----------------+-------------+\n",
      "|  count|                35|              35|           35|\n",
      "|   mean|19.542857142857144|            null|         null|\n",
      "| stddev|11.027620022531814|            null|         null|\n",
      "|    min|                 1|Barabati Stadium|    Abu Dhabi|\n",
      "|    max|                 9|Wankhede Stadium|Visakhapatnam|\n",
      "+-------+------------------+----------------+-------------+\n",
      "\n",
      "+--------------------+\n",
      "|               venue|\n",
      "+--------------------+\n",
      "|Dubai Internation...|\n",
      "|Himachal Pradesh ...|\n",
      "|Sardar Patel Stad...|\n",
      "|Punjab Cricket As...|\n",
      "|    Barabati Stadium|\n",
      "|Punjab Cricket As...|\n",
      "|       Nehru Stadium|\n",
      "|Maharashtra Crick...|\n",
      "|        Eden Gardens|\n",
      "|     OUTsurance Oval|\n",
      "|    Feroz Shah Kotla|\n",
      "|Rajiv Gandhi Inte...|\n",
      "|   Brabourne Stadium|\n",
      "|M.Chinnaswamy Sta...|\n",
      "|Vidarbha Cricket ...|\n",
      "|          Green Park|\n",
      "|Holkar Cricket St...|\n",
      "|Shaheed Veer Nara...|\n",
      "|Sharjah Cricket S...|\n",
      "|Sheikh Zayed Stadium|\n",
      "+--------------------+\n",
      "only showing top 20 rows\n",
      "\n",
      "+--------------------+---------------+\n",
      "|               venue|count(venue_id)|\n",
      "+--------------------+---------------+\n",
      "|M.Chinnaswamy Sta...|             80|\n",
      "|        Eden Gardens|             77|\n",
      "|    Feroz Shah Kotla|             74|\n",
      "+--------------------+---------------+\n",
      "only showing top 3 rows\n",
      "\n"
     ]
    }
   ],
   "source": [
    "from pyspark.sql import functions as F\n",
    "\n",
    "\n",
    "#Find the top 3 venues which hosted the most number of eliminator matches?\n",
    "to=ipl_venue.toPandas()\n",
    "ipl_venue.describe().show()\n",
    "ipl_venue.select('venue').distinct().show()\n",
    "\n",
    "spark.sql(\n",
    "\"\"\"\n",
    "select ipl_venue.venue,count(ipl_venue.venue_id) from  ipl_matches\n",
    "inner join  ipl_venue on ipl_matches.venue_id=ipl_venue.venue_id\n",
    "group by ipl_venue.venue\n",
    "order by 2 desc; \"\"\").show(3)  # this top venues which hosted most number of eliminators matches   \n"
   ]
  },
  {
   "cell_type": "code",
   "execution_count": 83,
   "metadata": {
    "colab": {
     "base_uri": "https://localhost:8080/"
    },
    "id": "cebW5sUfLoBX",
    "outputId": "66c6b665-6ba1-446d-8a74-2f7e62ff9f02"
   },
   "outputs": [
    {
     "name": "stdout",
     "output_type": "stream",
     "text": [
      "+----------+\n",
      "|eliminator|\n",
      "+----------+\n",
      "|        NA|\n",
      "|         Y|\n",
      "|         N|\n",
      "+----------+\n",
      "\n"
     ]
    }
   ],
   "source": [
    "ipl_matches.select('eliminator').distinct().show()"
   ]
  },
  {
   "cell_type": "code",
   "execution_count": 92,
   "metadata": {
    "colab": {
     "base_uri": "https://localhost:8080/"
    },
    "id": "Z3i1Z4WBIQat",
    "outputId": "04120a08-80e8-4e32-ec42-17a9501b161e"
   },
   "outputs": [
    {
     "data": {
      "text/plain": [
       "Sharjah Cricket Stadium                                 1\n",
       "Kingsmead                                               1\n",
       "St George's Park                                        1\n",
       "Green Park                                              1\n",
       "New Wanderers Stadium                                   1\n",
       "Sheikh Zayed Stadium                                    1\n",
       "Subrata Roy Sahara Stadium                              1\n",
       "Dr. Y.S. Rajasekhara Reddy ACA-VDCA Cricket Stadium     1\n",
       "JSCA International Stadium Complex                      1\n",
       "Shaheed Veer Narayan Singh International Stadium        1\n",
       "Dr DY Patil Sports Academy                              1\n",
       "Saurashtra Cricket Association Stadium                  1\n",
       "M.Chinnaswamy Stadium                                   1\n",
       "De Beers Diamond Oval                                   1\n",
       "Brabourne Stadium                                       1\n",
       "Feroz Shah Kotla                                        1\n",
       "Sardar Patel Stadium, Motera                            1\n",
       "Himachal Pradesh Cricket Association Stadium            1\n",
       "Vidarbha Cricket Association Stadium, Jamtha            1\n",
       "Punjab Cricket Association IS Bindra Stadium, Mohali    1\n",
       "MA Chidambaram Stadium, Chepauk                         1\n",
       "Dubai International Cricket Stadium                     1\n",
       "Rajiv Gandhi International Stadium, Uppal               1\n",
       "Holkar Cricket Stadium                                  1\n",
       "Newlands                                                1\n",
       "Maharashtra Cricket Association Stadium                 1\n",
       "SuperSport Park                                         1\n",
       "Barabati Stadium                                        1\n",
       "Eden Gardens                                            1\n",
       "Punjab Cricket Association Stadium, Mohali              1\n",
       "Buffalo Park                                            1\n",
       "Wankhede Stadium                                        1\n",
       "OUTsurance Oval                                         1\n",
       "Sawai Mansingh Stadium                                  1\n",
       "Nehru Stadium                                           1\n",
       "Name: venue, dtype: int64"
      ]
     },
     "execution_count": 92,
     "metadata": {},
     "output_type": "execute_result"
    }
   ],
   "source": [
    "to['venue'].value_counts()"
   ]
  },
  {
   "cell_type": "code",
   "execution_count": 93,
   "metadata": {
    "colab": {
     "base_uri": "https://localhost:8080/"
    },
    "id": "J4T6MMRhIp6q",
    "outputId": "657f94f2-7bed-4887-d152-e2375769ad1f"
   },
   "outputs": [
    {
     "data": {
      "text/plain": [
       "[['venue_id', '7'],\n",
       " ['venue', 'Dubai International Cricket Stadium'],\n",
       " ['city', 'Mumbai']]"
      ]
     },
     "execution_count": 93,
     "metadata": {},
     "output_type": "execute_result"
    }
   ],
   "source": [
    "[[i,ipl_venue.groupby(i).count().orderBy('count',ascending=False).first()[0]] for i in ipl_venue.columns]"
   ]
  },
  {
   "cell_type": "code",
   "execution_count": 94,
   "metadata": {
    "colab": {
     "base_uri": "https://localhost:8080/"
    },
    "id": "7J_wZNkcIvXV",
    "outputId": "7bc15482-a963-411a-e3af-73c28c39e9a1"
   },
   "outputs": [
    {
     "name": "stdout",
     "output_type": "stream",
     "text": [
      "+--------------------+-----+\n",
      "|               venue|count|\n",
      "+--------------------+-----+\n",
      "|Dubai Internation...|    1|\n",
      "|Himachal Pradesh ...|    1|\n",
      "|Sardar Patel Stad...|    1|\n",
      "+--------------------+-----+\n",
      "only showing top 3 rows\n",
      "\n"
     ]
    }
   ],
   "source": [
    "ipl_venue.groupBy('venue').count().show(3) \n"
   ]
  },
  {
   "cell_type": "code",
   "execution_count": 95,
   "metadata": {
    "colab": {
     "base_uri": "https://localhost:8080/"
    },
    "id": "WwGUU9eXOjc9",
    "outputId": "fe5d4d65-1871-4a15-c730-d347383524f7"
   },
   "outputs": [
    {
     "name": "stdout",
     "output_type": "stream",
     "text": [
      "+--------+------+-----+----+-------------+-------------+------------+------------+----------+----------+------------+---------+--------------+----------------+-------+-----------+--------------------+--------------------+\n",
      "|match_id|inning|overs|ball|      batsman|  non_striker|      bowler|batsman_runs|extra_runs|total_runs|non_boundary|is_wicket|dismissal_kind|player_dismissed|fielder|extras_type|        batting_team|        bowling_team|\n",
      "+--------+------+-----+----+-------------+-------------+------------+------------+----------+----------+------------+---------+--------------+----------------+-------+-----------+--------------------+--------------------+\n",
      "|  419157|     2|   16|   4|      V Kohli|R Vinay Kumar|CRD Fernando|           0|         0|         0|           0|        0|            NA|              NA|     NA|         NA|Royal Challengers...|      Mumbai Indians|\n",
      "|  419157|     2|   16|   5|      V Kohli|R Vinay Kumar|CRD Fernando|           1|         0|         1|           0|        0|            NA|              NA|     NA|         NA|Royal Challengers...|      Mumbai Indians|\n",
      "|  419157|     2|   16|   6|R Vinay Kumar|      V Kohli|CRD Fernando|           1|         0|         1|           0|        0|            NA|              NA|     NA|         NA|Royal Challengers...|      Mumbai Indians|\n",
      "|  419157|     2|   17|   1|R Vinay Kumar|      V Kohli|   R McLaren|           1|         0|         1|           0|        0|            NA|              NA|     NA|         NA|Royal Challengers...|      Mumbai Indians|\n",
      "|  419157|     2|   17|   2|      V Kohli|R Vinay Kumar|   R McLaren|           1|         0|         1|           0|        0|            NA|              NA|     NA|         NA|Royal Challengers...|      Mumbai Indians|\n",
      "|  419157|     2|   17|   3|R Vinay Kumar|      V Kohli|   R McLaren|           0|         0|         0|           0|        0|            NA|              NA|     NA|         NA|Royal Challengers...|      Mumbai Indians|\n",
      "|  419157|     2|   17|   4|R Vinay Kumar|      V Kohli|   R McLaren|           0|         0|         0|           0|        0|            NA|              NA|     NA|         NA|Royal Challengers...|      Mumbai Indians|\n",
      "|  419157|     2|   17|   5|R Vinay Kumar|      V Kohli|   R McLaren|           1|         0|         1|           0|        0|            NA|              NA|     NA|         NA|Royal Challengers...|      Mumbai Indians|\n",
      "|  419157|     2|   17|   6|      V Kohli|R Vinay Kumar|   R McLaren|           1|         0|         1|           0|        0|            NA|              NA|     NA|         NA|Royal Challengers...|      Mumbai Indians|\n",
      "|  419157|     2|   18|   1|      V Kohli|R Vinay Kumar|  KA Pollard|           4|         0|         4|           0|        0|            NA|              NA|     NA|         NA|Royal Challengers...|      Mumbai Indians|\n",
      "|  419157|     2|   18|   2|      V Kohli|R Vinay Kumar|  KA Pollard|           0|         0|         0|           0|        1|        caught|         V Kohli|AP Tare|         NA|Royal Challengers...|      Mumbai Indians|\n",
      "|  419157|     2|   18|   3|R Vinay Kumar| Pankaj Singh|  KA Pollard|           0|         1|         1|           0|        0|            NA|              NA|     NA|      wides|Royal Challengers...|      Mumbai Indians|\n",
      "|  419157|     2|   18|   4|R Vinay Kumar| Pankaj Singh|  KA Pollard|           1|         0|         1|           0|        0|            NA|              NA|     NA|         NA|Royal Challengers...|      Mumbai Indians|\n",
      "|  419157|     2|   18|   5| Pankaj Singh|R Vinay Kumar|  KA Pollard|           1|         0|         1|           0|        0|            NA|              NA|     NA|         NA|Royal Challengers...|      Mumbai Indians|\n",
      "|  419157|     2|   18|   6|R Vinay Kumar| Pankaj Singh|  KA Pollard|           1|         0|         1|           0|        0|            NA|              NA|     NA|         NA|Royal Challengers...|      Mumbai Indians|\n",
      "|  419157|     2|   18|   7| Pankaj Singh|R Vinay Kumar|  KA Pollard|           0|         0|         0|           0|        1|        caught|    Pankaj Singh| Z Khan|         NA|Royal Challengers...|      Mumbai Indians|\n",
      "|  419157|     2|   19|   1|     A Kumble|R Vinay Kumar|   R McLaren|           0|         0|         0|           0|        0|            NA|              NA|     NA|         NA|Royal Challengers...|      Mumbai Indians|\n",
      "|  419157|     1|    0|   1|    R McLaren| SR Tendulkar|    DW Steyn|           1|         0|         1|           0|        0|            NA|              NA|     NA|         NA|      Mumbai Indians|Royal Challengers...|\n",
      "|  419157|     1|    0|   2| SR Tendulkar|    R McLaren|    DW Steyn|           0|         0|         0|           0|        0|            NA|              NA|     NA|         NA|      Mumbai Indians|Royal Challengers...|\n",
      "|  419157|     1|    0|   3| SR Tendulkar|    R McLaren|    DW Steyn|           1|         0|         1|           0|        0|            NA|              NA|     NA|         NA|      Mumbai Indians|Royal Challengers...|\n",
      "+--------+------+-----+----+-------------+-------------+------------+------------+----------+----------+------------+---------+--------------+----------------+-------+-----------+--------------------+--------------------+\n",
      "only showing top 20 rows\n",
      "\n",
      "+--------------------+------+\n",
      "|      dismissal_kind| count|\n",
      "+--------------------+------+\n",
      "|             stumped|   294|\n",
      "|          hit wicket|    12|\n",
      "|                  NA|183973|\n",
      "|              bowled|  1700|\n",
      "|                 lbw|   571|\n",
      "|   caught and bowled|   269|\n",
      "|        retired hurt|    11|\n",
      "|              caught|  5743|\n",
      "|             run out|   893|\n",
      "|obstructing the f...|     2|\n",
      "+--------------------+------+\n",
      "\n"
     ]
    }
   ],
   "source": [
    "#Return most number of catches taken by a player in IPL history\n",
    "ipl_ball_by_ball.show()\n",
    "ipl_ball_by_ball.groupby('dismissal_kind').count().show()\n",
    "#so in below ypu see 5743 caught taken in history "
   ]
  },
  {
   "cell_type": "code",
   "execution_count": 96,
   "metadata": {
    "colab": {
     "base_uri": "https://localhost:8080/"
    },
    "id": "85oILTEfPfbW",
    "outputId": "51c7e29f-827c-45df-ffdf-e19ea22bc33f"
   },
   "outputs": [
    {
     "name": "stdout",
     "output_type": "stream",
     "text": [
      "+---------------+-----+\n",
      "|         bowler|count|\n",
      "+---------------+-----+\n",
      "|  Kuldeep Yadav|  913|\n",
      "|     TM Dilshan|  275|\n",
      "|     KA Pollard| 1414|\n",
      "| M Muralitharan| 1577|\n",
      "|        J Botha|  709|\n",
      "|    SS Cottrell|  131|\n",
      "|       DR Smith|  557|\n",
      "|       M Manhas|   42|\n",
      "|     A Flintoff|   66|\n",
      "|       AR Patel| 2053|\n",
      "|          B Lee|  916|\n",
      "|    BMAJ Mendis|   30|\n",
      "|NM Coulter-Nile|  751|\n",
      "|       HV Patel|  966|\n",
      "|     AL Menaria|  113|\n",
      "|Joginder Sharma|  272|\n",
      "|      YK Pathan| 1184|\n",
      "|      RG Sharma|  342|\n",
      "|        RG More|   37|\n",
      "|     SK Trivedi| 1557|\n",
      "+---------------+-----+\n",
      "only showing top 20 rows\n",
      "\n"
     ]
    }
   ],
   "source": [
    "#Write a query to return a report for highest wicket taker in matches which were affected by\n",
    "#Duckworth-Lewis’s method (D/L method).\n",
    "\n",
    "ipl_ball_by_ball.groupby('bowler').count().show()"
   ]
  },
  {
   "cell_type": "code",
   "execution_count": 99,
   "metadata": {
    "id": "4FL_9TGWOE7b"
   },
   "outputs": [],
   "source": [
    "merge=ipl_ball_by_ball.join(ipl_matches,on='match_id')\n",
    "DL=merge[merge['method']=='D/L']#this is find all matches affected by DL\n",
    "sum1=DL.groupBy(['match_id','batsman']).sum('batsman_runs')#finding out total runs scored by every batsman in each match effected by DL \n",
    "\n"
   ]
  },
  {
   "cell_type": "code",
   "execution_count": 100,
   "metadata": {
    "colab": {
     "base_uri": "https://localhost:8080/"
    },
    "id": "Lk4dWXtgUMCC",
    "outputId": "730617d2-c8ff-4602-9ecf-7a437b0bf949"
   },
   "outputs": [
    {
     "name": "stdout",
     "output_type": "stream",
     "text": [
      "+--------+------------+-----------------+----+\n",
      "|match_id|     batsman|sum(batsman_runs)|rank|\n",
      "+--------+------------+-----------------+----+\n",
      "| 1082648|   DA Warner|               37|   1|\n",
      "| 1136566|   AM Rahane|               45|   1|\n",
      "| 1136578|     CA Lynn|               74|   1|\n",
      "| 1136592|     RR Pant|               69|   1|\n",
      "|  336022|    V Sehwag|               51|   1|\n",
      "|  336025| Salman Butt|               73|   1|\n",
      "|  392183|    V Sehwag|               38|   1|\n",
      "|  392183|      K Goel|               38|   1|\n",
      "|  392186|    CH Gayle|               44|   1|\n",
      "|  392214|   ML Hayden|               89|   1|\n",
      "|  501215|    SK Raina|               50|   1|\n",
      "|  501245| S Badrinath|               54|   1|\n",
      "|  501255|    CH Gayle|               38|   1|\n",
      "|  733993|  KD Karthik|               39|   1|\n",
      "|  829743|   DA Warner|               91|   1|\n",
      "|  829807|MC Henriques|               57|   1|\n",
      "|  980943|    S Dhawan|               56|   1|\n",
      "|  980989|   YK Pathan|               37|   1|\n",
      "|  980997|   AM Rahane|               42|   1|\n",
      "|  980999|     V Kohli|              113|   1|\n",
      "+--------+------------+-----------------+----+\n",
      "\n"
     ]
    }
   ],
   "source": [
    "from pyspark.sql.window import Window\n",
    "from pyspark.sql.functions import rank\n",
    "from pyspark.sql.functions import col\n",
    "\n",
    "\n",
    "window = Window.partitionBy('match_id').orderBy(col('sum(batsman_runs)').desc())\n",
    "res_4=sum1.withColumn('rank',rank().over(window))\n",
    "res_4.filter(res_4.rank==1).show()"
   ]
  },
  {
   "cell_type": "code",
   "execution_count": 134,
   "metadata": {
    "colab": {
     "base_uri": "https://localhost:8080/"
    },
    "id": "45YkvzA2UOre",
    "outputId": "ef0f9b0e-5bb9-4b84-a38d-43ccb77f11bc"
   },
   "outputs": [],
   "source": [
    "#Write a query to return a report for highest strike rate by a batsman in non powerplay\n",
    "#overs(7-20 overs) \n"
   ]
  },
  {
   "cell_type": "code",
   "execution_count": 102,
   "metadata": {
    "id": "kG8LDQLmUTkP"
   },
   "outputs": [],
   "source": [
    "legal=merge[~merge['extras_type'].isin(['wides', 'noballs']) & (merge['overs'].between(7,20))]#filtering out wides and no balls, and taking  in non powerplay overs(7-20) \n",
    "runs = legal.groupBy('batsman').sum('batsman_runs')#finding out total runs by each batsman\n",
    "ball=legal.groupby('batsman').count()#finding out total balls faced by each batsman\n",
    "balls=ball.withColumnRenamed(\"batsman\",\"batsman_1\")"
   ]
  },
  {
   "cell_type": "code",
   "execution_count": 103,
   "metadata": {
    "colab": {
     "base_uri": "https://localhost:8080/"
    },
    "id": "_aIrXI1_TxUs",
    "outputId": "50417a5e-2798-4b46-bef4-f4ff49fb398c"
   },
   "outputs": [
    {
     "name": "stdout",
     "output_type": "stream",
     "text": [
      "+------------+------------------+\n",
      "|     batsman|       Strike rate|\n",
      "+------------+------------------+\n",
      "|  B Stanlake|             250.0|\n",
      "|Kamran Akmal|213.88888888888889|\n",
      "|  ER Dwivedi|211.11111111111111|\n",
      "|    Umar Gul|205.26315789473685|\n",
      "| AC Blizzard|             200.0|\n",
      "|    RS Sodhi|             200.0|\n",
      "|    W Jaffer|             188.0|\n",
      "|   DJM Short|187.09677419354838|\n",
      "|   LJ Wright|             186.0|\n",
      "|  AD Russell|181.85185185185185|\n",
      "+------------+------------------+\n",
      "only showing top 10 rows\n",
      "\n"
     ]
    }
   ],
   "source": [
    "joined=balls.join(runs, balls.batsman_1 == runs.batsman, 'inner')#In pandas we could  just do strike_rate=runs*100/balls and we could get strike rate. We can't do same in pyspark , so first I will join the two result set and then find the strike rate\n",
    "result_4=joined.withColumn(\"Strike rate\", col(\"sum(batsman_runs)\")*100/col(\"count\")).sort('Strike rate',ascending=False)#Dividing the two columns and getting the strike rate the hard way.\n",
    "result_4.select('batsman','Strike rate').show(10)#Top 10 batsman with highest strike in powerplay"
   ]
  },
  {
   "cell_type": "code",
   "execution_count": 111,
   "metadata": {
    "colab": {
     "base_uri": "https://localhost:8080/"
    },
    "id": "hscYbA4SWPji",
    "outputId": "2ca763ca-57e6-4519-e4d1-67fd507507f2"
   },
   "outputs": [
    {
     "name": "stdout",
     "output_type": "stream",
     "text": [
      "+-------------+--------------------+------------+\n",
      "|  first(city)|               venue|count(venue)|\n",
      "+-------------+--------------------+------------+\n",
      "|    Bengaluru|M.Chinnaswamy Sta...|        1092|\n",
      "|       Mumbai|    Wankhede Stadium|        1017|\n",
      "|      Kolkata|        Eden Gardens|         915|\n",
      "|        Delhi|    Feroz Shah Kotla|         897|\n",
      "|    Hyderabad|Rajiv Gandhi Inte...|         740|\n",
      "|      Chennai|MA Chidambaram St...|         705|\n",
      "|       Jaipur|Sawai Mansingh St...|         609|\n",
      "|   Chandigarh|Punjab Cricket As...|         441|\n",
      "|        Dubai|Dubai Internation...|         392|\n",
      "|    Abu Dhabi|Sheikh Zayed Stadium|         325|\n",
      "|         Pune|Maharashtra Crick...|         276|\n",
      "|       Mumbai|Dr DY Patil Sport...|         246|\n",
      "|   Chandigarh|Punjab Cricket As...|         227|\n",
      "|      Sharjah|Sharjah Cricket S...|         222|\n",
      "|       Durban|           Kingsmead|         205|\n",
      "|       Mumbai|   Brabourne Stadium|         185|\n",
      "|         Pune|Subrata Roy Sahar...|         180|\n",
      "|    Centurion|     SuperSport Park|         169|\n",
      "|    Ahmedabad|Sardar Patel Stad...|         150|\n",
      "|Visakhapatnam|Dr. Y.S. Rajasekh...|         135|\n",
      "+-------------+--------------------+------------+\n",
      "only showing top 20 rows\n",
      "\n"
     ]
    }
   ],
   "source": [
    "#Write a query to return a report for highest extra runs in a venue (stadium, city).\n",
    "#merge_3=merge.join(ipl_venue,on='venue_id')\n",
    "#merge_3.show(5)\n",
    "#merge_3.select('extra_runs').distinct().show()\n",
    "#extra_runss=merge_3.filter(merge_3.extra_runs>'0')\n",
    "#extra_runss.groupBy('venue','city').count().sort('count',ascending=False).show(10)\n",
    "\n",
    "spark.sql(\n",
    "\"\"\"\n",
    "select first(city),venue,count(venue) from ipl_venue inner join ipl_matches on ipl_venue.venue_id=ipl_matches.venue_id\n",
    "inner join ipl_ball_by_ball on ipl_ball_by_ball.match_id=ipl_matches.match_id\n",
    "where extra_runs >0\n",
    "group by venue\n",
    "order by count(venue) desc \n",
    "\"\"\").show()"
   ]
  },
  {
   "cell_type": "code",
   "execution_count": 88,
   "metadata": {
    "colab": {
     "base_uri": "https://localhost:8080/"
    },
    "id": "ZsD-A7Xle8Q1",
    "outputId": "3cdd5dd7-d603-49ac-f3c7-2d7edd5820fd"
   },
   "outputs": [
    {
     "name": "stdout",
     "output_type": "stream",
     "text": [
      "+----------------+----------------------+\n",
      "| player_of_match|count(player_of_match)|\n",
      "+----------------+----------------------+\n",
      "|       JH Kallis|                     3|\n",
      "|       JP Duminy|                     3|\n",
      "|       YK Pathan|                     3|\n",
      "|      GJ Maxwell|                     3|\n",
      "|        DR Smith|                     2|\n",
      "|   KC Sangakkara|                     2|\n",
      "|       MK Pandey|                     2|\n",
      "|       RG Sharma|                     2|\n",
      "|  Sandeep Sharma|                     2|\n",
      "|DPMD Jayawardene|                     2|\n",
      "|  M Muralitharan|                     2|\n",
      "|     LRPL Taylor|                     2|\n",
      "|        SK Raina|                     2|\n",
      "|    Yuvraj Singh|                     2|\n",
      "|       ML Hayden|                     2|\n",
      "|    SR Tendulkar|                     2|\n",
      "|    AC Gilchrist|                     2|\n",
      "|  AB de Villiers|                     2|\n",
      "|      TM Dilshan|                     1|\n",
      "|           B Lee|                     1|\n",
      "+----------------+----------------------+\n",
      "only showing top 20 rows\n",
      "\n"
     ]
    }
   ],
   "source": [
    "#Write a query to return a report for the cricketers with the most number of players of the\n",
    "#match award in neutral venues.\n",
    "spark.sql(\n",
    "\"\"\"\n",
    "select player_of_match,count(player_of_match) from ipl_matches\n",
    "where neutral_venue = 1\n",
    "group by player_of_match\n",
    "order by count(player_of_match) desc \n",
    "\"\"\").show()\n",
    "\n",
    "# so here in below you cricketers with the most number of players of the match award\n",
    "\n",
    "\n"
   ]
  },
  {
   "cell_type": "code",
   "execution_count": null,
   "metadata": {
    "id": "yGI-XE4p1P2B"
   },
   "outputs": [],
   "source": []
  },
  {
   "cell_type": "code",
   "execution_count": 86,
   "metadata": {
    "colab": {
     "base_uri": "https://localhost:8080/"
    },
    "id": "4u7xKPnRToV8",
    "outputId": "eca33699-b44e-46d9-db69-dcc45f5b37e1"
   },
   "outputs": [
    {
     "name": "stdout",
     "output_type": "stream",
     "text": [
      "+--------------------+--------------+\n",
      "|             umpire1|count(umpire1)|\n",
      "+--------------------+--------------+\n",
      "|     HDPK Dharmasena|            78|\n",
      "|        AK Chaudhary|            56|\n",
      "|           Asad Rauf|            51|\n",
      "|           M Erasmus|            40|\n",
      "|           Aleem Dar|            38|\n",
      "|              S Ravi|            37|\n",
      "|           BF Bowden|            37|\n",
      "|         CB Gaffaney|            34|\n",
      "|         BR Doctrove|            34|\n",
      "|KN Ananthapadmana...|            33|\n",
      "|         AY Dandekar|            28|\n",
      "|       C Shamshuddin|            22|\n",
      "|            NJ Llong|            21|\n",
      "|         Nitin Menon|            20|\n",
      "|         RE Koertzen|            20|\n",
      "|         VA Kulkarni|            19|\n",
      "|            S Asnani|            19|\n",
      "|           JD Cloete|            16|\n",
      "|        BNJ Oxenford|            16|\n",
      "|            YC Barde|            14|\n",
      "+--------------------+--------------+\n",
      "only showing top 20 rows\n",
      "\n"
     ]
    }
   ],
   "source": [
    "#Write a query to find out who has officiated (as an umpire) the most number of matches in\n",
    "#IPL.\n",
    "spark.sql(\n",
    "\"\"\"\n",
    "select umpire1,count(umpire1) from ipl_matches\n",
    "group by umpire1\n",
    "order by count(umpire1) desc \n",
    "\"\"\").show()\n",
    "\n",
    "#this is for umpire1"
   ]
  },
  {
   "cell_type": "code",
   "execution_count": 112,
   "metadata": {
    "colab": {
     "base_uri": "https://localhost:8080/"
    },
    "id": "NG38pdOXvg_J",
    "outputId": "ab1146db-2b6c-4d58-8255-c86c7cf2e09a"
   },
   "outputs": [
    {
     "name": "stdout",
     "output_type": "stream",
     "text": [
      "+---------------+--------------+\n",
      "|        umpire2|count(umpire2)|\n",
      "+---------------+--------------+\n",
      "|         S Ravi|            84|\n",
      "|  C Shamshuddin|            60|\n",
      "|     SJA Taufel|            54|\n",
      "|      CK Nandan|            49|\n",
      "|      RJ Tucker|            41|\n",
      "|    Nitin Menon|            37|\n",
      "|   BNJ Oxenford|            32|\n",
      "|    VA Kulkarni|            31|\n",
      "|   AK Chaudhary|            31|\n",
      "|      RB Tiffin|            30|\n",
      "|    SK Tarapore|            26|\n",
      "|      M Erasmus|            25|\n",
      "|      AM Saheba|            23|\n",
      "|    RE Koertzen|            21|\n",
      "|      VK Sharma|            20|\n",
      "|     PR Reiffel|            19|\n",
      "| RK Illingworth|            18|\n",
      "|      DJ Harper|            18|\n",
      "|       NJ Llong|            16|\n",
      "|HDPK Dharmasena|            16|\n",
      "+---------------+--------------+\n",
      "only showing top 20 rows\n",
      "\n"
     ]
    }
   ],
   "source": [
    "spark.sql(\n",
    "\"\"\"\n",
    "select umpire2,count(umpire2) from ipl_matches\n",
    "group by umpire2\n",
    "order by count(umpire2) desc \n",
    "\"\"\").show()\n",
    "\n",
    "\n",
    "# here i upire2 which did umpiring in most matches"
   ]
  },
  {
   "cell_type": "code",
   "execution_count": 114,
   "metadata": {
    "colab": {
     "base_uri": "https://localhost:8080/"
    },
    "id": "NBFOaEW3FlYo",
    "outputId": "a02b4f2b-7f77-4356-f252-a29fd29bbca0"
   },
   "outputs": [
    {
     "name": "stdout",
     "output_type": "stream",
     "text": [
      "+--------+--------------------+-----------+-----------------+\n",
      "|match_id|        first(venue)|first(city)|sum(batsman_runs)|\n",
      "+--------+--------------------+-----------+-----------------+\n",
      "|  980999|M.Chinnaswamy Sta...|  Bengaluru|            113.0|\n",
      "+--------+--------------------+-----------+-----------------+\n",
      "\n"
     ]
    }
   ],
   "source": [
    "spark.sql(\n",
    "\"\"\"\n",
    "select m.match_id,first(v.venue),first(v.city),sum(b.batsman_runs) from ipl_ball_by_ball as b\n",
    "inner join ipl_matches as m on b.match_id=m.match_id\n",
    "inner join ipl_venue as v on m.venue_id = v.venue_id\n",
    "where b.batsman= 'V Kohli'\n",
    "group by m.match_id\n",
    "order by sum(b.batsman_runs) desc limit 1; \n",
    "\"\"\").show()\n",
    "\n",
    "# so here you can see the answer"
   ]
  },
  {
   "cell_type": "code",
   "execution_count": 120,
   "metadata": {
    "id": "3C0yYOesIlL5"
   },
   "outputs": [
    {
     "name": "stdout",
     "output_type": "stream",
     "text": [
      "Requirement already satisfied: pymysql in c:\\users\\91932\\anaconda3\\lib\\site-packages (1.0.2)\n"
     ]
    }
   ],
   "source": [
    "#session 3\n",
    "\n",
    "\n",
    "!pip install pymysql\n",
    "import pymysql\n"
   ]
  },
  {
   "cell_type": "code",
   "execution_count": 121,
   "metadata": {},
   "outputs": [],
   "source": [
    "conn=pymysql.connect(host='127.0.0.1', user='root', password='19062001', database='class')"
   ]
  },
  {
   "cell_type": "code",
   "execution_count": 122,
   "metadata": {},
   "outputs": [],
   "source": [
    "cur=conn.cursor()"
   ]
  },
  {
   "cell_type": "code",
   "execution_count": 137,
   "metadata": {},
   "outputs": [
    {
     "data": {
      "text/plain": [
       "(('ipl_matches',),\n",
       " ('ipll_ball_by_all',),\n",
       " ('ipll_ball_by_ball',),\n",
       " ('ipls_ball_by_all',),\n",
       " ('ips_ball_by_all',))"
      ]
     },
     "execution_count": 137,
     "metadata": {},
     "output_type": "execute_result"
    }
   ],
   "source": [
    "cur.execute(\"show tables\")\n",
    "cur.fetchall()"
   ]
  },
  {
   "cell_type": "code",
   "execution_count": 135,
   "metadata": {},
   "outputs": [
    {
     "data": {
      "text/plain": [
       "(335982,\n",
       " datetime.datetime(2008, 4, 18, 0, 0),\n",
       " 'BB McCullum',\n",
       " 35,\n",
       " 0,\n",
       " 'Royal Challengers Bangalore',\n",
       " 'Kolkata Knight Riders',\n",
       " 'Royal Challengers Bangalore',\n",
       " 'field',\n",
       " 'Kolkata Knight Riders',\n",
       " 'runs',\n",
       " 140,\n",
       " 'N',\n",
       " 'NA',\n",
       " 'Asad Rauf',\n",
       " 'RE Koertzen')"
      ]
     },
     "execution_count": 135,
     "metadata": {},
     "output_type": "execute_result"
    }
   ],
   "source": [
    "cur.execute(\"select * from ipl_matches\")\n",
    "cur.fetchone()\n",
    "\n",
    "# so here as you can see we simly import dataset in database "
   ]
  }
 ],
 "metadata": {
  "colab": {
   "name": "Untitled5.ipynb",
   "provenance": []
  },
  "kernelspec": {
   "display_name": "Python 3",
   "language": "python",
   "name": "python3"
  },
  "language_info": {
   "codemirror_mode": {
    "name": "ipython",
    "version": 3
   },
   "file_extension": ".py",
   "mimetype": "text/x-python",
   "name": "python",
   "nbconvert_exporter": "python",
   "pygments_lexer": "ipython3",
   "version": "3.8.8"
  }
 },
 "nbformat": 4,
 "nbformat_minor": 4
}
